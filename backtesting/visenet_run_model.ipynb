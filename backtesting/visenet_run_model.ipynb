{
  "cells": [
    {
      "cell_type": "code",
      "execution_count": 8,
      "metadata": {
        "colab": {
          "base_uri": "https://localhost:8080/"
        },
        "id": "byI5qHnMl8hz",
        "outputId": "86c47bcd-5fc9-433a-d98c-e650c05d2c8a"
      },
      "outputs": [
        {
          "name": "stdout",
          "output_type": "stream",
          "text": [
            "fatal: destination path 'visenet' already exists and is not an empty directory.\n"
          ]
        }
      ],
      "source": [
        "!git clone https://github.com/CryAndRRich/visenet.git"
      ]
    },
    {
      "cell_type": "code",
      "execution_count": 9,
      "metadata": {
        "colab": {
          "base_uri": "https://localhost:8080/"
        },
        "id": "OuutDc_NmKzE",
        "outputId": "91801471-0753-45ed-a3a5-8cf8695f6759"
      },
      "outputs": [
        {
          "name": "stdout",
          "output_type": "stream",
          "text": [
            "Requirement already satisfied: torch==2.3.1 in /usr/local/lib/python3.12/dist-packages (from -r visenet/requirements.txt (line 1)) (2.3.1)\n",
            "Requirement already satisfied: torchvision in /usr/local/lib/python3.12/dist-packages (from -r visenet/requirements.txt (line 2)) (0.18.1)\n",
            "Requirement already satisfied: torchaudio in /usr/local/lib/python3.12/dist-packages (from -r visenet/requirements.txt (line 3)) (2.3.1)\n",
            "Requirement already satisfied: sb3-contrib in /usr/local/lib/python3.12/dist-packages (from -r visenet/requirements.txt (line 5)) (2.7.0)\n",
            "Requirement already satisfied: shimmy>=2.0 in /usr/local/lib/python3.12/dist-packages (from -r visenet/requirements.txt (line 6)) (2.0.0)\n",
            "Requirement already satisfied: stable-baselines3[extra] in /usr/local/lib/python3.12/dist-packages (from -r visenet/requirements.txt (line 4)) (2.7.0)\n",
            "Requirement already satisfied: filelock in /usr/local/lib/python3.12/dist-packages (from torch==2.3.1->-r visenet/requirements.txt (line 1)) (3.19.1)\n",
            "Requirement already satisfied: typing-extensions>=4.8.0 in /usr/local/lib/python3.12/dist-packages (from torch==2.3.1->-r visenet/requirements.txt (line 1)) (4.15.0)\n",
            "Requirement already satisfied: sympy in /usr/local/lib/python3.12/dist-packages (from torch==2.3.1->-r visenet/requirements.txt (line 1)) (1.13.3)\n",
            "Requirement already satisfied: networkx in /usr/local/lib/python3.12/dist-packages (from torch==2.3.1->-r visenet/requirements.txt (line 1)) (3.5)\n",
            "Requirement already satisfied: jinja2 in /usr/local/lib/python3.12/dist-packages (from torch==2.3.1->-r visenet/requirements.txt (line 1)) (3.1.6)\n",
            "Requirement already satisfied: fsspec in /usr/local/lib/python3.12/dist-packages (from torch==2.3.1->-r visenet/requirements.txt (line 1)) (2025.3.0)\n",
            "Requirement already satisfied: nvidia-cuda-nvrtc-cu12==12.1.105 in /usr/local/lib/python3.12/dist-packages (from torch==2.3.1->-r visenet/requirements.txt (line 1)) (12.1.105)\n",
            "Requirement already satisfied: nvidia-cuda-runtime-cu12==12.1.105 in /usr/local/lib/python3.12/dist-packages (from torch==2.3.1->-r visenet/requirements.txt (line 1)) (12.1.105)\n",
            "Requirement already satisfied: nvidia-cuda-cupti-cu12==12.1.105 in /usr/local/lib/python3.12/dist-packages (from torch==2.3.1->-r visenet/requirements.txt (line 1)) (12.1.105)\n",
            "Requirement already satisfied: nvidia-cudnn-cu12==8.9.2.26 in /usr/local/lib/python3.12/dist-packages (from torch==2.3.1->-r visenet/requirements.txt (line 1)) (8.9.2.26)\n",
            "Requirement already satisfied: nvidia-cublas-cu12==12.1.3.1 in /usr/local/lib/python3.12/dist-packages (from torch==2.3.1->-r visenet/requirements.txt (line 1)) (12.1.3.1)\n",
            "Requirement already satisfied: nvidia-cufft-cu12==11.0.2.54 in /usr/local/lib/python3.12/dist-packages (from torch==2.3.1->-r visenet/requirements.txt (line 1)) (11.0.2.54)\n",
            "Requirement already satisfied: nvidia-curand-cu12==10.3.2.106 in /usr/local/lib/python3.12/dist-packages (from torch==2.3.1->-r visenet/requirements.txt (line 1)) (10.3.2.106)\n",
            "Requirement already satisfied: nvidia-cusolver-cu12==11.4.5.107 in /usr/local/lib/python3.12/dist-packages (from torch==2.3.1->-r visenet/requirements.txt (line 1)) (11.4.5.107)\n",
            "Requirement already satisfied: nvidia-cusparse-cu12==12.1.0.106 in /usr/local/lib/python3.12/dist-packages (from torch==2.3.1->-r visenet/requirements.txt (line 1)) (12.1.0.106)\n",
            "Requirement already satisfied: nvidia-nccl-cu12==2.20.5 in /usr/local/lib/python3.12/dist-packages (from torch==2.3.1->-r visenet/requirements.txt (line 1)) (2.20.5)\n",
            "Requirement already satisfied: nvidia-nvtx-cu12==12.1.105 in /usr/local/lib/python3.12/dist-packages (from torch==2.3.1->-r visenet/requirements.txt (line 1)) (12.1.105)\n",
            "Requirement already satisfied: nvidia-nvjitlink-cu12 in /usr/local/lib/python3.12/dist-packages (from nvidia-cusolver-cu12==11.4.5.107->torch==2.3.1->-r visenet/requirements.txt (line 1)) (12.6.85)\n",
            "Requirement already satisfied: numpy in /usr/local/lib/python3.12/dist-packages (from torchvision->-r visenet/requirements.txt (line 2)) (2.0.2)\n",
            "Requirement already satisfied: pillow!=8.3.*,>=5.3.0 in /usr/local/lib/python3.12/dist-packages (from torchvision->-r visenet/requirements.txt (line 2)) (11.3.0)\n",
            "Requirement already satisfied: gymnasium<1.3.0,>=0.29.1 in /usr/local/lib/python3.12/dist-packages (from stable-baselines3[extra]->-r visenet/requirements.txt (line 4)) (1.2.0)\n",
            "Requirement already satisfied: cloudpickle in /usr/local/lib/python3.12/dist-packages (from stable-baselines3[extra]->-r visenet/requirements.txt (line 4)) (3.1.1)\n",
            "Requirement already satisfied: pandas in /usr/local/lib/python3.12/dist-packages (from stable-baselines3[extra]->-r visenet/requirements.txt (line 4)) (2.2.2)\n",
            "Requirement already satisfied: matplotlib in /usr/local/lib/python3.12/dist-packages (from stable-baselines3[extra]->-r visenet/requirements.txt (line 4)) (3.10.0)\n",
            "Requirement already satisfied: opencv-python in /usr/local/lib/python3.12/dist-packages (from stable-baselines3[extra]->-r visenet/requirements.txt (line 4)) (4.12.0.88)\n",
            "Requirement already satisfied: pygame in /usr/local/lib/python3.12/dist-packages (from stable-baselines3[extra]->-r visenet/requirements.txt (line 4)) (2.6.1)\n",
            "Requirement already satisfied: tensorboard>=2.9.1 in /usr/local/lib/python3.12/dist-packages (from stable-baselines3[extra]->-r visenet/requirements.txt (line 4)) (2.19.0)\n",
            "Requirement already satisfied: psutil in /usr/local/lib/python3.12/dist-packages (from stable-baselines3[extra]->-r visenet/requirements.txt (line 4)) (5.9.5)\n",
            "Requirement already satisfied: tqdm in /usr/local/lib/python3.12/dist-packages (from stable-baselines3[extra]->-r visenet/requirements.txt (line 4)) (4.67.1)\n",
            "Requirement already satisfied: rich in /usr/local/lib/python3.12/dist-packages (from stable-baselines3[extra]->-r visenet/requirements.txt (line 4)) (13.9.4)\n",
            "Requirement already satisfied: ale-py>=0.9.0 in /usr/local/lib/python3.12/dist-packages (from stable-baselines3[extra]->-r visenet/requirements.txt (line 4)) (0.11.2)\n",
            "Requirement already satisfied: farama-notifications>=0.0.1 in /usr/local/lib/python3.12/dist-packages (from gymnasium<1.3.0,>=0.29.1->stable-baselines3[extra]->-r visenet/requirements.txt (line 4)) (0.0.4)\n",
            "Requirement already satisfied: absl-py>=0.4 in /usr/local/lib/python3.12/dist-packages (from tensorboard>=2.9.1->stable-baselines3[extra]->-r visenet/requirements.txt (line 4)) (1.4.0)\n",
            "Requirement already satisfied: grpcio>=1.48.2 in /usr/local/lib/python3.12/dist-packages (from tensorboard>=2.9.1->stable-baselines3[extra]->-r visenet/requirements.txt (line 4)) (1.74.0)\n",
            "Requirement already satisfied: markdown>=2.6.8 in /usr/local/lib/python3.12/dist-packages (from tensorboard>=2.9.1->stable-baselines3[extra]->-r visenet/requirements.txt (line 4)) (3.8.2)\n",
            "Requirement already satisfied: packaging in /usr/local/lib/python3.12/dist-packages (from tensorboard>=2.9.1->stable-baselines3[extra]->-r visenet/requirements.txt (line 4)) (25.0)\n",
            "Requirement already satisfied: protobuf!=4.24.0,>=3.19.6 in /usr/local/lib/python3.12/dist-packages (from tensorboard>=2.9.1->stable-baselines3[extra]->-r visenet/requirements.txt (line 4)) (5.29.5)\n",
            "Requirement already satisfied: setuptools>=41.0.0 in /usr/local/lib/python3.12/dist-packages (from tensorboard>=2.9.1->stable-baselines3[extra]->-r visenet/requirements.txt (line 4)) (75.2.0)\n",
            "Requirement already satisfied: six>1.9 in /usr/local/lib/python3.12/dist-packages (from tensorboard>=2.9.1->stable-baselines3[extra]->-r visenet/requirements.txt (line 4)) (1.17.0)\n",
            "Requirement already satisfied: tensorboard-data-server<0.8.0,>=0.7.0 in /usr/local/lib/python3.12/dist-packages (from tensorboard>=2.9.1->stable-baselines3[extra]->-r visenet/requirements.txt (line 4)) (0.7.2)\n",
            "Requirement already satisfied: werkzeug>=1.0.1 in /usr/local/lib/python3.12/dist-packages (from tensorboard>=2.9.1->stable-baselines3[extra]->-r visenet/requirements.txt (line 4)) (3.1.3)\n",
            "Requirement already satisfied: MarkupSafe>=2.0 in /usr/local/lib/python3.12/dist-packages (from jinja2->torch==2.3.1->-r visenet/requirements.txt (line 1)) (3.0.2)\n",
            "Requirement already satisfied: contourpy>=1.0.1 in /usr/local/lib/python3.12/dist-packages (from matplotlib->stable-baselines3[extra]->-r visenet/requirements.txt (line 4)) (1.3.3)\n",
            "Requirement already satisfied: cycler>=0.10 in /usr/local/lib/python3.12/dist-packages (from matplotlib->stable-baselines3[extra]->-r visenet/requirements.txt (line 4)) (0.12.1)\n",
            "Requirement already satisfied: fonttools>=4.22.0 in /usr/local/lib/python3.12/dist-packages (from matplotlib->stable-baselines3[extra]->-r visenet/requirements.txt (line 4)) (4.59.1)\n",
            "Requirement already satisfied: kiwisolver>=1.3.1 in /usr/local/lib/python3.12/dist-packages (from matplotlib->stable-baselines3[extra]->-r visenet/requirements.txt (line 4)) (1.4.9)\n",
            "Requirement already satisfied: pyparsing>=2.3.1 in /usr/local/lib/python3.12/dist-packages (from matplotlib->stable-baselines3[extra]->-r visenet/requirements.txt (line 4)) (3.2.3)\n",
            "Requirement already satisfied: python-dateutil>=2.7 in /usr/local/lib/python3.12/dist-packages (from matplotlib->stable-baselines3[extra]->-r visenet/requirements.txt (line 4)) (2.9.0.post0)\n",
            "Requirement already satisfied: pytz>=2020.1 in /usr/local/lib/python3.12/dist-packages (from pandas->stable-baselines3[extra]->-r visenet/requirements.txt (line 4)) (2025.2)\n",
            "Requirement already satisfied: tzdata>=2022.7 in /usr/local/lib/python3.12/dist-packages (from pandas->stable-baselines3[extra]->-r visenet/requirements.txt (line 4)) (2025.2)\n",
            "Requirement already satisfied: markdown-it-py>=2.2.0 in /usr/local/lib/python3.12/dist-packages (from rich->stable-baselines3[extra]->-r visenet/requirements.txt (line 4)) (4.0.0)\n",
            "Requirement already satisfied: pygments<3.0.0,>=2.13.0 in /usr/local/lib/python3.12/dist-packages (from rich->stable-baselines3[extra]->-r visenet/requirements.txt (line 4)) (2.19.2)\n",
            "Requirement already satisfied: mpmath<1.4,>=1.1.0 in /usr/local/lib/python3.12/dist-packages (from sympy->torch==2.3.1->-r visenet/requirements.txt (line 1)) (1.3.0)\n",
            "Requirement already satisfied: mdurl~=0.1 in /usr/local/lib/python3.12/dist-packages (from markdown-it-py>=2.2.0->rich->stable-baselines3[extra]->-r visenet/requirements.txt (line 4)) (0.1.2)\n"
          ]
        }
      ],
      "source": [
        "!pip install -r visenet/requirements.txt"
      ]
    },
    {
      "cell_type": "code",
      "execution_count": 10,
      "metadata": {
        "colab": {
          "base_uri": "https://localhost:8080/"
        },
        "id": "TFnz5S37mZyH",
        "outputId": "693f455e-e087-4e9b-80f8-d2136ff877cf"
      },
      "outputs": [
        {
          "name": "stdout",
          "output_type": "stream",
          "text": [
            "2.3.1+cu121\n"
          ]
        }
      ],
      "source": [
        "import torch\n",
        "print(torch.__version__)"
      ]
    },
    {
      "cell_type": "code",
      "execution_count": 11,
      "metadata": {
        "id": "TB_rScTUnEYT"
      },
      "outputs": [],
      "source": [
        "import sys\n",
        "sys.path.append(\"/content/visenet\")"
      ]
    },
    {
      "cell_type": "code",
      "execution_count": 12,
      "metadata": {
        "colab": {
          "base_uri": "https://localhost:8080/"
        },
        "id": "d0CKYoL4oABH",
        "outputId": "dd2078bd-8d07-4daf-dd8b-32e40152bc1f"
      },
      "outputs": [
        {
          "name": "stderr",
          "output_type": "stream",
          "text": [
            "/usr/local/lib/python3.12/dist-packages/jupyter_client/session.py:151: DeprecationWarning: datetime.datetime.utcnow() is deprecated and scheduled for removal in a future version. Use timezone-aware objects to represent datetimes in UTC: datetime.datetime.now(datetime.UTC).\n",
            "  return datetime.utcnow().replace(tzinfo=utc)\n"
          ]
        }
      ],
      "source": [
        "import pandas as pd\n",
        "\n",
        "def preprocess_top30(df, top_n=30):\n",
        "    \"\"\"\n",
        "    Chuẩn hóa data sao cho mỗi ngày có đúng top_n tickers.\n",
        "    Nếu ngày nào thiếu thì fill từ ngày gần nhất (trước hoặc sau).\n",
        "\n",
        "    df: DataFrame có cột ['ticker', 'timestamp', ... feature_cols ...]\n",
        "    feature_cols: list tên các cột feature (open, high, low, close, ...).\n",
        "    top_n: số lượng tickers cần giữ lại mỗi ngày.\n",
        "    \"\"\"\n",
        "    result = []\n",
        "    all_dates = sorted(df['timestamp'].unique())\n",
        "\n",
        "    for i, date in enumerate(all_dates):\n",
        "        top_df = df[df['timestamp'] == date]\n",
        "\n",
        "        # Nếu đủ top_n thì ok\n",
        "        if len(top_df) == top_n:\n",
        "            result.append(top_df)\n",
        "        else:\n",
        "            # Cần fill thêm\n",
        "            missing = top_n - len(top_df)\n",
        "            # Tìm ngày gần nhất có data đủ\n",
        "            j = i - 1\n",
        "            filled = []\n",
        "            while j >= 0 and len(filled) < missing:\n",
        "                prev_day = result[j]  # đã được chuẩn hóa từ trước\n",
        "                # lấy ticker chưa có trong ngày hiện tại\n",
        "                candidates = prev_day[~prev_day['ticker'].isin(top_df['ticker'])]\n",
        "                needed = candidates.head(missing - len(filled))\n",
        "                filled.append(needed)\n",
        "                j -= 1\n",
        "            # nếu vẫn chưa đủ thì lấy từ ngày sau\n",
        "            if len(filled) < missing:\n",
        "                k = i + 1\n",
        "                while k < len(all_dates) and len(filled) < missing:\n",
        "                    next_day = df[df['timestamp'] == all_dates[k]].nlargest(top_n, 'vol')\n",
        "                    candidates = next_day[~next_day['ticker'].isin(top_df['ticker'])]\n",
        "                    needed = candidates.head(missing - len(filled))\n",
        "                    filled.append(needed)\n",
        "                    k += 1\n",
        "            # gộp lại\n",
        "            filled_df = pd.concat(filled) if filled else pd.DataFrame(columns=top_df.columns)\n",
        "            final_day = pd.concat([top_df, filled_df]).head(top_n)\n",
        "            final_day['timestamp'] = date  # đảm bảo timestamp đúng\n",
        "            result.append(final_day)\n",
        "\n",
        "    df_out = pd.concat(result).sort_values(['timestamp', 'ticker']).reset_index(drop=True)\n",
        "    df_out.to_csv(\"visenet/data/output/top_30_stocks_after_train_processed\", index=False)\n",
        "    return df_out\n",
        "\n",
        "file_path = \"visenet/data/output/top_30_stocks_after_train.csv\"\n",
        "df = pd.read_csv(file_path)\n",
        "data_fixed = preprocess_top30(df, top_n=30)\n"
      ]
    },
    {
      "cell_type": "code",
      "execution_count": 13,
      "metadata": {
        "id": "L34B1fxdnTJ7"
      },
      "outputs": [],
      "source": [
        "import pandas as pd\n",
        "import numpy as np\n",
        "import time\n",
        "\n",
        "from stable_baselines3 import A2C, PPO, TD3\n",
        "from stable_baselines3.common.noise import OrnsteinUhlenbeckActionNoise\n",
        "from stable_baselines3.common.vec_env import DummyVecEnv\n",
        "\n",
        "from env.EnvMultipleStock_train import StockEnvTrain\n",
        "from env.EnvMultipleStock_validation import StockEnvValidation\n",
        "from env.EnvMultipleStock_trade import StockEnvTrade\n",
        "from config import config\n",
        "from preprocess.data_split import data_split\n",
        "\n",
        "def train_A2C(env_train, model_name, timesteps=25000):\n",
        "    \"\"\"Train A2C model\"\"\"\n",
        "    start = time.time()\n",
        "    model = A2C(\"MlpPolicy\", env_train, verbose=0)\n",
        "    model.learn(total_timesteps=timesteps)\n",
        "    end = time.time()\n",
        "    model.save(f\"{config.TRAINED_MODEL_DIR}/{model_name}\")\n",
        "    print(\"Training time (A2C): \", (end - start) / 60, \" minutes\")\n",
        "    return model\n",
        "\n",
        "\n",
        "def train_TD3(env_train, model_name, timesteps=10000):\n",
        "    \"\"\"Train TD3 model (thay cho DDPG)\"\"\"\n",
        "    n_actions = env_train.action_space.shape[-1]\n",
        "    action_noise = OrnsteinUhlenbeckActionNoise(\n",
        "        mean=np.zeros(n_actions), sigma=0.1 * np.ones(n_actions)\n",
        "    )\n",
        "\n",
        "    start = time.time()\n",
        "    model = TD3(\"MlpPolicy\", env_train, action_noise=action_noise, verbose=0)\n",
        "    model.learn(total_timesteps=timesteps)\n",
        "    end = time.time()\n",
        "    model.save(f\"{config.TRAINED_MODEL_DIR}/{model_name}\")\n",
        "    print(\"Training time (TD3): \", (end - start) / 60, \" minutes\")\n",
        "    return model\n",
        "\n",
        "\n",
        "def train_PPO(env_train, model_name, timesteps=50000):\n",
        "    \"\"\"Train PPO model\"\"\"\n",
        "    start = time.time()\n",
        "    model = PPO(\"MlpPolicy\", env_train, ent_coef=0.005, verbose=0)\n",
        "    model.learn(total_timesteps=timesteps)\n",
        "    end = time.time()\n",
        "    model.save(f\"{config.TRAINED_MODEL_DIR}/{model_name}\")\n",
        "    print(\"Training time (PPO): \", (end - start) / 60, \" minutes\")\n",
        "    return model\n",
        "\n",
        "def DRL_prediction(df, model, name, last_state, iter_num,\n",
        "                   unique_trade_date, rebalance_window,\n",
        "                   turbulence_threshold, initial):\n",
        "    \"\"\"Make predictions based on trained model\"\"\"\n",
        "\n",
        "    trade_data = data_split(df,\n",
        "                            start=unique_trade_date[iter_num - rebalance_window],\n",
        "                            end=unique_trade_date[iter_num])\n",
        "    env_trade = DummyVecEnv([lambda: StockEnvTrade(trade_data,\n",
        "                                                   turbulence_threshold=turbulence_threshold,\n",
        "                                                   initial=initial,\n",
        "                                                   previous_state=last_state,\n",
        "                                                   model_name=name,\n",
        "                                                   iteration=iter_num)])\n",
        "    obs_trade = env_trade.reset()\n",
        "\n",
        "    for i in range(len(trade_data.index.unique())):\n",
        "        action, _ = model.predict(obs_trade)\n",
        "        obs_trade, _, _, _ = env_trade.step(action)\n",
        "        if i == (len(trade_data.index.unique()) - 2):\n",
        "            last_state = env_trade.envs[0].state\n",
        "\n",
        "    if isinstance(last_state, (list, np.ndarray)):\n",
        "        df_last_state = pd.DataFrame([last_state])   # 1 row\n",
        "    else:\n",
        "        df_last_state = pd.DataFrame({\"last_state\": [last_state]})  # scalar -> bọc lại\n",
        "\n",
        "    df_last_state.to_csv(f\"results/last_state_{name}_{iter_num}.csv\", index=False)\n",
        "\n",
        "    return last_state\n",
        "\n",
        "\n",
        "def DRL_validation(model, test_data, test_env, test_obs) -> None:\n",
        "    \"\"\"Validation loop\"\"\"\n",
        "    for i in range(len(test_data.index.unique())):\n",
        "        action, _ = model.predict(test_obs)\n",
        "        test_obs, _, _, _ = test_env.step(action)\n",
        "\n",
        "\n",
        "def get_validation_sharpe(iteration):\n",
        "    \"\"\"Calculate Sharpe ratio from validation results\"\"\"\n",
        "    df_total_value = pd.read_csv(\n",
        "        f\"results/account_value_validation_{iteration}.csv\", index_col=0\n",
        "    )\n",
        "    df_total_value.columns = [\"account_value_train\"]\n",
        "    df_total_value[\"daily_return\"] = df_total_value.pct_change(1)\n",
        "    sharpe = (4 ** 0.5) * df_total_value[\"daily_return\"].mean() / \\\n",
        "             df_total_value[\"daily_return\"].std()\n",
        "    return sharpe\n",
        "\n",
        "def run_ensemble_strategy(df, unique_trade_date, rebalance_window, validation_window) -> None:\n",
        "    \"\"\"Ensemble Strategy combining PPO, A2C and TD3\"\"\"\n",
        "    print(\"============Start Ensemble Strategy============\")\n",
        "    last_state_ensemble = []\n",
        "\n",
        "    ppo_sharpe_list = []\n",
        "    td3_sharpe_list = []\n",
        "    a2c_sharpe_list = []\n",
        "    model_use = []\n",
        "\n",
        "    insample_turbulence = df[(df.timestamp < 20240101) & (df.timestamp >= 20181009)]\n",
        "    insample_turbulence = insample_turbulence.drop_duplicates(subset=[\"timestamp\"])\n",
        "    insample_turbulence_threshold = np.quantile(insample_turbulence.turbulence.values, .90)\n",
        "\n",
        "    start = time.time()\n",
        "    for i in range(rebalance_window + validation_window, len(unique_trade_date), rebalance_window):\n",
        "        print(\"============================================\")\n",
        "\n",
        "        if i - rebalance_window - validation_window == 0:\n",
        "            initial = True\n",
        "        else:\n",
        "            initial = False\n",
        "\n",
        "        # set turbulence threshold\n",
        "        end_date_index = df.index[df[\"timestamp\"] ==\n",
        "                                  unique_trade_date[i - rebalance_window - validation_window]].to_list()[-1]\n",
        "        print(df.index[df[\"timestamp\"] ==\n",
        "                                  unique_trade_date[i - rebalance_window - validation_window]].to_list())\n",
        "        end_date_index = int(end_date_index)\n",
        "        start_date_index = end_date_index - validation_window * 30 + 1\n",
        "        historical_turbulence = df.iloc[start_date_index:(end_date_index + 1), :]\n",
        "        historical_turbulence = historical_turbulence.drop_duplicates(subset=[\"timestamp\"])\n",
        "        historical_turbulence_mean = np.mean(historical_turbulence.turbulence.values)\n",
        "\n",
        "        if historical_turbulence_mean > insample_turbulence_threshold:\n",
        "            turbulence_threshold = insample_turbulence_threshold\n",
        "        else:\n",
        "            turbulence_threshold = np.quantile(insample_turbulence.turbulence.values, 1)\n",
        "        print(\"turbulence_threshold: \", turbulence_threshold)\n",
        "\n",
        "        # training env\n",
        "        train = data_split(df, start=20181009,\n",
        "                           end=unique_trade_date[i - rebalance_window - validation_window])\n",
        "        env_train = DummyVecEnv([lambda: StockEnvTrain(train)])\n",
        "\n",
        "        # validation env\n",
        "        validation = data_split(df,\n",
        "                                start=unique_trade_date[i - rebalance_window - validation_window],\n",
        "                                end=unique_trade_date[i - rebalance_window])\n",
        "        env_val = DummyVecEnv([lambda: StockEnvValidation(validation,\n",
        "                                                          turbulence_threshold=turbulence_threshold,\n",
        "                                                          iteration=i)])\n",
        "        obs_val = env_val.reset()\n",
        "\n",
        "        # Train A2C\n",
        "        print(\"======A2C Training========\")\n",
        "        model_a2c = train_A2C(env_train, f\"A2C_30k_dow_{i}\", timesteps=30000)\n",
        "        DRL_validation(model_a2c, validation, env_val, obs_val)\n",
        "        sharpe_a2c = get_validation_sharpe(i)\n",
        "        print(\"A2C Sharpe Ratio: \", sharpe_a2c)\n",
        "\n",
        "        # Train PPO\n",
        "        print(\"======PPO Training========\")\n",
        "        model_ppo = train_PPO(env_train, f\"PPO_100k_dow_{i}\", timesteps=100000)\n",
        "        DRL_validation(model_ppo, validation, env_val, obs_val)\n",
        "        sharpe_ppo = get_validation_sharpe(i)\n",
        "        print(\"PPO Sharpe Ratio: \", sharpe_ppo)\n",
        "\n",
        "        # Train TD3\n",
        "        print(\"======TD3 Training========\")\n",
        "        model_td3 = train_TD3(env_train, f\"TD3_10k_dow_{i}\", timesteps=10000)\n",
        "        DRL_validation(model_td3, validation, env_val, obs_val)\n",
        "        sharpe_td3 = get_validation_sharpe(i)\n",
        "        print(\"TD3 Sharpe Ratio: \", sharpe_td3)\n",
        "\n",
        "        ppo_sharpe_list.append(sharpe_ppo)\n",
        "        a2c_sharpe_list.append(sharpe_a2c)\n",
        "        td3_sharpe_list.append(sharpe_td3)\n",
        "\n",
        "        # model selection\n",
        "        if (sharpe_ppo >= sharpe_a2c) and (sharpe_ppo >= sharpe_td3):\n",
        "            model_ensemble = model_ppo\n",
        "            model_use.append(\"PPO\")\n",
        "        elif (sharpe_a2c > sharpe_ppo) and (sharpe_a2c > sharpe_td3):\n",
        "            model_ensemble = model_a2c\n",
        "            model_use.append(\"A2C\")\n",
        "        else:\n",
        "            model_ensemble = model_td3\n",
        "            model_use.append(\"TD3\")\n",
        "\n",
        "        # Trading\n",
        "        print(\"======Trading from: \", unique_trade_date[i - rebalance_window], \"to \", unique_trade_date[i])\n",
        "        last_state_ensemble = DRL_prediction(df, model_ensemble, \"ensemble\",\n",
        "                                             last_state_ensemble, i,\n",
        "                                             unique_trade_date,\n",
        "                                             rebalance_window,\n",
        "                                             turbulence_threshold,\n",
        "                                             initial)\n",
        "\n",
        "    end = time.time()\n",
        "    print(\"Ensemble Strategy took: \", (end - start) / 60, \" minutes\")\n"
      ]
    },
    {
      "cell_type": "code",
      "execution_count": 7,
      "metadata": {
        "colab": {
          "base_uri": "https://localhost:8080/"
        },
        "id": "goT309zWo5vr",
        "outputId": "311cedeb-a252-4a2a-c274-7f4b1f1d0cc9"
      },
      "outputs": [
        {
          "name": "stderr",
          "output_type": "stream",
          "text": [
            "/usr/local/lib/python3.12/dist-packages/stable_baselines3/common/vec_env/patch_gym.py:49: UserWarning: You provided an OpenAI Gym environment. We strongly recommend transitioning to Gymnasium environments. Stable-Baselines3 is automatically wrapping your environments in a compatibility layer, which could potentially cause issues.\n",
            "  warnings.warn(\n",
            "/usr/local/lib/python3.12/dist-packages/stable_baselines3/common/vec_env/patch_gym.py:49: UserWarning: You provided an OpenAI Gym environment. We strongly recommend transitioning to Gymnasium environments. Stable-Baselines3 is automatically wrapping your environments in a compatibility layer, which could potentially cause issues.\n",
            "  warnings.warn(\n"
          ]
        },
        {
          "name": "stdout",
          "output_type": "stream",
          "text": [
            "[20240102 20240103 20240104 20240105 20240108 20240109 20240110 20240111\n",
            " 20240112 20240115 20240116 20240117 20240118 20240119 20240122 20240123\n",
            " 20240124 20240125 20240126 20240129 20240130 20240131 20240201 20240202\n",
            " 20240205 20240206 20240207 20240215 20240216 20240219 20240220 20240221\n",
            " 20240222 20240223 20240226 20240227 20240228 20240229 20240301 20240304\n",
            " 20240305 20240306 20240307 20240308 20240311 20240312 20240313 20240314\n",
            " 20240315 20240318 20240319 20240320 20240321 20240322 20240325 20240326\n",
            " 20240327 20240328 20240329 20240401 20240402 20240403 20240404 20240405\n",
            " 20240408 20240409 20240410 20240411 20240412 20240415 20240416 20240417\n",
            " 20240419 20240422 20240423 20240424 20240425 20240426 20240502 20240503\n",
            " 20240506 20240507 20240508 20240509 20240510 20240513 20240514 20240515\n",
            " 20240516 20240517 20240520 20240521 20240522 20240523 20240524 20240527\n",
            " 20240528 20240529 20240530 20240531 20240603 20240604 20240605 20240606\n",
            " 20240607 20240610 20240611 20240612 20240613 20240614 20240617 20240618\n",
            " 20240619 20240620 20240621 20240624 20240625 20240626 20240627 20240628\n",
            " 20240701 20240702 20240703 20240704 20240705 20240708 20240709 20240710\n",
            " 20240711 20240712 20240715 20240716 20240717 20240718 20240719 20240722\n",
            " 20240723 20240724 20240725 20240726 20240729 20240730 20240731 20240801\n",
            " 20240802 20240805 20240806 20240807 20240808 20240809 20240812 20240813\n",
            " 20240814 20240815 20240816 20240819 20240820 20240821 20240822 20240823\n",
            " 20240826 20240827 20240828 20240829 20240830 20240904 20240905 20240906\n",
            " 20240909 20240910 20240911 20240912 20240913 20240916 20240917 20240918\n",
            " 20240919 20240920 20240923 20240924 20240925 20240926 20240927 20240930\n",
            " 20241001 20241002 20241003 20241004 20241007 20241008 20241009 20241010\n",
            " 20241011 20241014 20241015 20241016 20241017 20241018 20241021 20241022\n",
            " 20241023 20241024 20241025 20241028 20241029 20241030 20241031 20241101\n",
            " 20241104 20241105 20241106 20241107 20241108 20241111 20241112 20241113\n",
            " 20241114 20241115 20241118 20241119 20241120 20241121 20241122 20241125\n",
            " 20241126 20241127 20241128 20241129 20241202 20241203 20241204 20241205\n",
            " 20241206 20241209 20241210 20241211 20241212 20241213 20241216 20241217\n",
            " 20241218 20241219 20241220 20241223 20241224 20241225 20241226 20241227\n",
            " 20241230 20241231 20250102 20250103 20250106 20250107 20250108 20250109\n",
            " 20250110 20250113 20250114 20250115 20250116 20250117 20250120 20250121\n",
            " 20250122 20250123 20250124 20250203 20250204 20250205 20250206 20250207\n",
            " 20250210 20250211 20250212 20250213 20250214 20250217 20250218 20250219\n",
            " 20250220 20250221 20250224 20250225 20250226 20250227 20250228 20250303\n",
            " 20250304 20250305 20250306 20250307 20250310 20250311 20250312 20250313\n",
            " 20250314 20250317 20250318 20250319 20250320 20250321 20250324 20250325\n",
            " 20250326 20250327 20250328 20250331 20250401 20250402 20250403 20250404\n",
            " 20250408 20250409 20250410 20250411 20250414 20250415 20250416 20250417\n",
            " 20250418 20250421 20250422 20250423 20250424 20250425 20250428 20250429\n",
            " 20250505 20250506 20250507 20250508 20250509 20250512 20250513 20250514\n",
            " 20250515 20250516 20250519 20250520 20250521 20250522 20250523 20250526\n",
            " 20250527 20250528 20250529 20250530 20250602 20250603 20250604 20250605\n",
            " 20250606 20250609 20250610 20250611 20250612 20250613 20250616 20250617\n",
            " 20250618 20250619 20250620 20250623 20250624 20250625 20250626 20250627\n",
            " 20250630 20250701 20250702 20250703 20250704 20250707 20250708 20250709\n",
            " 20250710 20250711 20250714 20250715 20250716 20250717 20250718 20250721\n",
            " 20250722 20250723 20250724 20250725 20250728 20250729 20250730 20250731\n",
            " 20250801 20250804 20250805 20250806 20250807 20250808 20250811 20250812\n",
            " 20250813 20250814 20250815 20250818 20250819 20250820 20250821 20250822\n",
            " 20250825 20250826 20250827 20250828 20250829]\n",
            "============Start Ensemble Strategy============\n",
            "============================================\n",
            "[39270, 39271, 39272, 39273, 39274, 39275, 39276, 39277, 39278, 39279, 39280, 39281, 39282, 39283, 39284, 39285, 39286, 39287, 39288, 39289, 39290, 39291, 39292, 39293, 39294, 39295, 39296, 39297, 39298, 39299]\n",
            "turbulence_threshold:  289.5317758225865\n",
            "======A2C Training========\n"
          ]
        },
        {
          "name": "stderr",
          "output_type": "stream",
          "text": [
            "/usr/local/lib/python3.12/dist-packages/jupyter_client/session.py:151: DeprecationWarning: datetime.datetime.utcnow() is deprecated and scheduled for removal in a future version. Use timezone-aware objects to represent datetimes in UTC: datetime.datetime.now(datetime.UTC).\n",
            "  return datetime.utcnow().replace(tzinfo=utc)\n"
          ]
        },
        {
          "name": "stdout",
          "output_type": "stream",
          "text": [
            "Training time (A2C):  1.3994225104649862  minutes\n"
          ]
        },
        {
          "name": "stderr",
          "output_type": "stream",
          "text": [
            "/usr/local/lib/python3.12/dist-packages/jupyter_client/session.py:151: DeprecationWarning: datetime.datetime.utcnow() is deprecated and scheduled for removal in a future version. Use timezone-aware objects to represent datetimes in UTC: datetime.datetime.now(datetime.UTC).\n",
            "  return datetime.utcnow().replace(tzinfo=utc)\n"
          ]
        },
        {
          "name": "stdout",
          "output_type": "stream",
          "text": [
            "A2C Sharpe Ratio:  0.3143443451496732\n",
            "======PPO Training========\n"
          ]
        },
        {
          "name": "stderr",
          "output_type": "stream",
          "text": [
            "/usr/local/lib/python3.12/dist-packages/jupyter_client/session.py:151: DeprecationWarning: datetime.datetime.utcnow() is deprecated and scheduled for removal in a future version. Use timezone-aware objects to represent datetimes in UTC: datetime.datetime.now(datetime.UTC).\n",
            "  return datetime.utcnow().replace(tzinfo=utc)\n"
          ]
        },
        {
          "name": "stdout",
          "output_type": "stream",
          "text": [
            "Training time (PPO):  4.293164483706156  minutes\n"
          ]
        },
        {
          "name": "stderr",
          "output_type": "stream",
          "text": [
            "/usr/local/lib/python3.12/dist-packages/jupyter_client/session.py:151: DeprecationWarning: datetime.datetime.utcnow() is deprecated and scheduled for removal in a future version. Use timezone-aware objects to represent datetimes in UTC: datetime.datetime.now(datetime.UTC).\n",
            "  return datetime.utcnow().replace(tzinfo=utc)\n"
          ]
        },
        {
          "name": "stdout",
          "output_type": "stream",
          "text": [
            "PPO Sharpe Ratio:  0.10368742068369263\n",
            "======TD3 Training========\n"
          ]
        },
        {
          "name": "stderr",
          "output_type": "stream",
          "text": [
            "/usr/local/lib/python3.12/dist-packages/jupyter_client/session.py:151: DeprecationWarning: datetime.datetime.utcnow() is deprecated and scheduled for removal in a future version. Use timezone-aware objects to represent datetimes in UTC: datetime.datetime.now(datetime.UTC).\n",
            "  return datetime.utcnow().replace(tzinfo=utc)\n"
          ]
        },
        {
          "name": "stdout",
          "output_type": "stream",
          "text": [
            "Training time (TD3):  6.540156702200572  minutes\n"
          ]
        },
        {
          "name": "stderr",
          "output_type": "stream",
          "text": [
            "/usr/local/lib/python3.12/dist-packages/jupyter_client/session.py:151: DeprecationWarning: datetime.datetime.utcnow() is deprecated and scheduled for removal in a future version. Use timezone-aware objects to represent datetimes in UTC: datetime.datetime.now(datetime.UTC).\n",
            "  return datetime.utcnow().replace(tzinfo=utc)\n",
            "/usr/local/lib/python3.12/dist-packages/stable_baselines3/common/vec_env/patch_gym.py:49: UserWarning: You provided an OpenAI Gym environment. We strongly recommend transitioning to Gymnasium environments. Stable-Baselines3 is automatically wrapping your environments in a compatibility layer, which could potentially cause issues.\n",
            "  warnings.warn(\n"
          ]
        },
        {
          "name": "stdout",
          "output_type": "stream",
          "text": [
            "TD3 Sharpe Ratio:  0.30245662066653434\n",
            "======Trading from:  20240405 to  20240709\n"
          ]
        },
        {
          "name": "stderr",
          "output_type": "stream",
          "text": [
            "/usr/local/lib/python3.12/dist-packages/jupyter_client/session.py:151: DeprecationWarning: datetime.datetime.utcnow() is deprecated and scheduled for removal in a future version. Use timezone-aware objects to represent datetimes in UTC: datetime.datetime.now(datetime.UTC).\n",
            "  return datetime.utcnow().replace(tzinfo=utc)\n",
            "/usr/local/lib/python3.12/dist-packages/stable_baselines3/common/vec_env/patch_gym.py:49: UserWarning: You provided an OpenAI Gym environment. We strongly recommend transitioning to Gymnasium environments. Stable-Baselines3 is automatically wrapping your environments in a compatibility layer, which could potentially cause issues.\n",
            "  warnings.warn(\n",
            "/usr/local/lib/python3.12/dist-packages/stable_baselines3/common/vec_env/patch_gym.py:49: UserWarning: You provided an OpenAI Gym environment. We strongly recommend transitioning to Gymnasium environments. Stable-Baselines3 is automatically wrapping your environments in a compatibility layer, which could potentially cause issues.\n",
            "  warnings.warn(\n"
          ]
        },
        {
          "name": "stdout",
          "output_type": "stream",
          "text": [
            "previous_total_asset: 1000000\n",
            "end_total_asset: 1033787.2472019703\n",
            "total_reward: 33787.24720197031\n",
            "total_cost:  2223.805102745839\n",
            "total trades:  982\n",
            "Sharpe:  0.11546593171039586\n",
            "============================================\n",
            "[41160, 41161, 41162, 41163, 41164, 41165, 41166, 41167, 41168, 41169, 41170, 41171, 41172, 41173, 41174, 41175, 41176, 41177, 41178, 41179, 41180, 41181, 41182, 41183, 41184, 41185, 41186, 41187, 41188, 41189]\n",
            "turbulence_threshold:  289.5317758225865\n",
            "======A2C Training========\n"
          ]
        },
        {
          "name": "stderr",
          "output_type": "stream",
          "text": [
            "/usr/local/lib/python3.12/dist-packages/jupyter_client/session.py:151: DeprecationWarning: datetime.datetime.utcnow() is deprecated and scheduled for removal in a future version. Use timezone-aware objects to represent datetimes in UTC: datetime.datetime.now(datetime.UTC).\n",
            "  return datetime.utcnow().replace(tzinfo=utc)\n"
          ]
        },
        {
          "name": "stdout",
          "output_type": "stream",
          "text": [
            "Training time (A2C):  1.4090196768442789  minutes\n"
          ]
        },
        {
          "name": "stderr",
          "output_type": "stream",
          "text": [
            "/usr/local/lib/python3.12/dist-packages/jupyter_client/session.py:151: DeprecationWarning: datetime.datetime.utcnow() is deprecated and scheduled for removal in a future version. Use timezone-aware objects to represent datetimes in UTC: datetime.datetime.now(datetime.UTC).\n",
            "  return datetime.utcnow().replace(tzinfo=utc)\n"
          ]
        },
        {
          "name": "stdout",
          "output_type": "stream",
          "text": [
            "A2C Sharpe Ratio:  0.0006446320945584595\n",
            "======PPO Training========\n"
          ]
        },
        {
          "name": "stderr",
          "output_type": "stream",
          "text": [
            "/usr/local/lib/python3.12/dist-packages/jupyter_client/session.py:151: DeprecationWarning: datetime.datetime.utcnow() is deprecated and scheduled for removal in a future version. Use timezone-aware objects to represent datetimes in UTC: datetime.datetime.now(datetime.UTC).\n",
            "  return datetime.utcnow().replace(tzinfo=utc)\n"
          ]
        },
        {
          "name": "stdout",
          "output_type": "stream",
          "text": [
            "Training time (PPO):  4.240950612227122  minutes\n",
            "PPO Sharpe Ratio:  -0.7249628103396681\n",
            "======TD3 Training========\n"
          ]
        },
        {
          "name": "stderr",
          "output_type": "stream",
          "text": [
            "/usr/local/lib/python3.12/dist-packages/jupyter_client/session.py:151: DeprecationWarning: datetime.datetime.utcnow() is deprecated and scheduled for removal in a future version. Use timezone-aware objects to represent datetimes in UTC: datetime.datetime.now(datetime.UTC).\n",
            "  return datetime.utcnow().replace(tzinfo=utc)\n"
          ]
        },
        {
          "name": "stdout",
          "output_type": "stream",
          "text": [
            "Training time (TD3):  6.61533952554067  minutes\n",
            "TD3 Sharpe Ratio:  0.10958998757895021\n",
            "======Trading from:  20240709 to  20241008\n"
          ]
        },
        {
          "name": "stderr",
          "output_type": "stream",
          "text": [
            "/usr/local/lib/python3.12/dist-packages/stable_baselines3/common/vec_env/patch_gym.py:49: UserWarning: You provided an OpenAI Gym environment. We strongly recommend transitioning to Gymnasium environments. Stable-Baselines3 is automatically wrapping your environments in a compatibility layer, which could potentially cause issues.\n",
            "  warnings.warn(\n",
            "/usr/local/lib/python3.12/dist-packages/jupyter_client/session.py:151: DeprecationWarning: datetime.datetime.utcnow() is deprecated and scheduled for removal in a future version. Use timezone-aware objects to represent datetimes in UTC: datetime.datetime.now(datetime.UTC).\n",
            "  return datetime.utcnow().replace(tzinfo=utc)\n"
          ]
        },
        {
          "name": "stdout",
          "output_type": "stream",
          "text": [
            "previous_total_asset: 1033787.2472019703\n",
            "end_total_asset: 1021566.1541627331\n",
            "total_reward: -12221.093039237196\n",
            "total_cost:  0.0\n",
            "total trades:  1054\n",
            "Sharpe:  -0.019779899841304585\n",
            "============================================\n",
            "[43050, 43051, 43052, 43053, 43054, 43055, 43056, 43057, 43058, 43059, 43060, 43061, 43062, 43063, 43064, 43065, 43066, 43067, 43068, 43069, 43070, 43071, 43072, 43073, 43074, 43075, 43076, 43077, 43078, 43079]\n",
            "turbulence_threshold:  289.5317758225865\n",
            "======A2C Training========\n"
          ]
        },
        {
          "name": "stderr",
          "output_type": "stream",
          "text": [
            "/usr/local/lib/python3.12/dist-packages/jupyter_client/session.py:151: DeprecationWarning: datetime.datetime.utcnow() is deprecated and scheduled for removal in a future version. Use timezone-aware objects to represent datetimes in UTC: datetime.datetime.now(datetime.UTC).\n",
            "  return datetime.utcnow().replace(tzinfo=utc)\n",
            "/usr/local/lib/python3.12/dist-packages/stable_baselines3/common/vec_env/patch_gym.py:49: UserWarning: You provided an OpenAI Gym environment. We strongly recommend transitioning to Gymnasium environments. Stable-Baselines3 is automatically wrapping your environments in a compatibility layer, which could potentially cause issues.\n",
            "  warnings.warn(\n",
            "/usr/local/lib/python3.12/dist-packages/stable_baselines3/common/vec_env/patch_gym.py:49: UserWarning: You provided an OpenAI Gym environment. We strongly recommend transitioning to Gymnasium environments. Stable-Baselines3 is automatically wrapping your environments in a compatibility layer, which could potentially cause issues.\n",
            "  warnings.warn(\n",
            "/usr/local/lib/python3.12/dist-packages/jupyter_client/session.py:151: DeprecationWarning: datetime.datetime.utcnow() is deprecated and scheduled for removal in a future version. Use timezone-aware objects to represent datetimes in UTC: datetime.datetime.now(datetime.UTC).\n",
            "  return datetime.utcnow().replace(tzinfo=utc)\n"
          ]
        },
        {
          "name": "stdout",
          "output_type": "stream",
          "text": [
            "Training time (A2C):  1.3913861393928528  minutes\n",
            "A2C Sharpe Ratio:  -0.18071774099223747\n",
            "======PPO Training========\n"
          ]
        },
        {
          "name": "stderr",
          "output_type": "stream",
          "text": [
            "/usr/local/lib/python3.12/dist-packages/jupyter_client/session.py:151: DeprecationWarning: datetime.datetime.utcnow() is deprecated and scheduled for removal in a future version. Use timezone-aware objects to represent datetimes in UTC: datetime.datetime.now(datetime.UTC).\n",
            "  return datetime.utcnow().replace(tzinfo=utc)\n"
          ]
        },
        {
          "name": "stdout",
          "output_type": "stream",
          "text": [
            "Training time (PPO):  4.255435029665629  minutes\n",
            "PPO Sharpe Ratio:  -0.36837420871197923\n",
            "======TD3 Training========\n"
          ]
        },
        {
          "name": "stderr",
          "output_type": "stream",
          "text": [
            "/usr/local/lib/python3.12/dist-packages/jupyter_client/session.py:151: DeprecationWarning: datetime.datetime.utcnow() is deprecated and scheduled for removal in a future version. Use timezone-aware objects to represent datetimes in UTC: datetime.datetime.now(datetime.UTC).\n",
            "  return datetime.utcnow().replace(tzinfo=utc)\n"
          ]
        },
        {
          "name": "stdout",
          "output_type": "stream",
          "text": [
            "Training time (TD3):  6.564013270537059  minutes\n",
            "TD3 Sharpe Ratio:  -0.18391699077131762\n",
            "======Trading from:  20241008 to  20250106\n"
          ]
        },
        {
          "name": "stderr",
          "output_type": "stream",
          "text": [
            "/usr/local/lib/python3.12/dist-packages/stable_baselines3/common/vec_env/patch_gym.py:49: UserWarning: You provided an OpenAI Gym environment. We strongly recommend transitioning to Gymnasium environments. Stable-Baselines3 is automatically wrapping your environments in a compatibility layer, which could potentially cause issues.\n",
            "  warnings.warn(\n",
            "/usr/local/lib/python3.12/dist-packages/jupyter_client/session.py:151: DeprecationWarning: datetime.datetime.utcnow() is deprecated and scheduled for removal in a future version. Use timezone-aware objects to represent datetimes in UTC: datetime.datetime.now(datetime.UTC).\n",
            "  return datetime.utcnow().replace(tzinfo=utc)\n"
          ]
        },
        {
          "name": "stdout",
          "output_type": "stream",
          "text": [
            "previous_total_asset: 1021566.1541627331\n",
            "end_total_asset: 993733.86460625\n",
            "total_reward: -27832.289556483156\n",
            "total_cost:  6358.1226\n",
            "total trades:  1089\n",
            "Sharpe:  -0.11026389480938649\n",
            "============================================\n",
            "[44940, 44941, 44942, 44943, 44944, 44945, 44946, 44947, 44948, 44949, 44950, 44951, 44952, 44953, 44954, 44955, 44956, 44957, 44958, 44959, 44960, 44961, 44962, 44963, 44964, 44965, 44966, 44967, 44968, 44969]\n",
            "turbulence_threshold:  289.5317758225865\n",
            "======A2C Training========\n"
          ]
        },
        {
          "name": "stderr",
          "output_type": "stream",
          "text": [
            "/usr/local/lib/python3.12/dist-packages/jupyter_client/session.py:151: DeprecationWarning: datetime.datetime.utcnow() is deprecated and scheduled for removal in a future version. Use timezone-aware objects to represent datetimes in UTC: datetime.datetime.now(datetime.UTC).\n",
            "  return datetime.utcnow().replace(tzinfo=utc)\n",
            "/usr/local/lib/python3.12/dist-packages/stable_baselines3/common/vec_env/patch_gym.py:49: UserWarning: You provided an OpenAI Gym environment. We strongly recommend transitioning to Gymnasium environments. Stable-Baselines3 is automatically wrapping your environments in a compatibility layer, which could potentially cause issues.\n",
            "  warnings.warn(\n",
            "/usr/local/lib/python3.12/dist-packages/stable_baselines3/common/vec_env/patch_gym.py:49: UserWarning: You provided an OpenAI Gym environment. We strongly recommend transitioning to Gymnasium environments. Stable-Baselines3 is automatically wrapping your environments in a compatibility layer, which could potentially cause issues.\n",
            "  warnings.warn(\n",
            "/usr/local/lib/python3.12/dist-packages/jupyter_client/session.py:151: DeprecationWarning: datetime.datetime.utcnow() is deprecated and scheduled for removal in a future version. Use timezone-aware objects to represent datetimes in UTC: datetime.datetime.now(datetime.UTC).\n",
            "  return datetime.utcnow().replace(tzinfo=utc)\n"
          ]
        },
        {
          "name": "stdout",
          "output_type": "stream",
          "text": [
            "Training time (A2C):  1.4046669324239096  minutes\n",
            "A2C Sharpe Ratio:  0.06526623944064576\n",
            "======PPO Training========\n"
          ]
        },
        {
          "name": "stderr",
          "output_type": "stream",
          "text": [
            "/usr/local/lib/python3.12/dist-packages/jupyter_client/session.py:151: DeprecationWarning: datetime.datetime.utcnow() is deprecated and scheduled for removal in a future version. Use timezone-aware objects to represent datetimes in UTC: datetime.datetime.now(datetime.UTC).\n",
            "  return datetime.utcnow().replace(tzinfo=utc)\n"
          ]
        },
        {
          "name": "stdout",
          "output_type": "stream",
          "text": [
            "Training time (PPO):  4.290662590662638  minutes\n",
            "PPO Sharpe Ratio:  -0.19538074796320443\n",
            "======TD3 Training========\n"
          ]
        },
        {
          "name": "stderr",
          "output_type": "stream",
          "text": [
            "/usr/local/lib/python3.12/dist-packages/jupyter_client/session.py:151: DeprecationWarning: datetime.datetime.utcnow() is deprecated and scheduled for removal in a future version. Use timezone-aware objects to represent datetimes in UTC: datetime.datetime.now(datetime.UTC).\n",
            "  return datetime.utcnow().replace(tzinfo=utc)\n"
          ]
        },
        {
          "name": "stdout",
          "output_type": "stream",
          "text": [
            "Training time (TD3):  6.5640443682670595  minutes\n",
            "TD3 Sharpe Ratio:  -0.031820265301161\n",
            "======Trading from:  20250106 to  20250411\n"
          ]
        },
        {
          "name": "stderr",
          "output_type": "stream",
          "text": [
            "/usr/local/lib/python3.12/dist-packages/stable_baselines3/common/vec_env/patch_gym.py:49: UserWarning: You provided an OpenAI Gym environment. We strongly recommend transitioning to Gymnasium environments. Stable-Baselines3 is automatically wrapping your environments in a compatibility layer, which could potentially cause issues.\n",
            "  warnings.warn(\n",
            "/usr/local/lib/python3.12/dist-packages/jupyter_client/session.py:151: DeprecationWarning: datetime.datetime.utcnow() is deprecated and scheduled for removal in a future version. Use timezone-aware objects to represent datetimes in UTC: datetime.datetime.now(datetime.UTC).\n",
            "  return datetime.utcnow().replace(tzinfo=utc)\n",
            "/usr/local/lib/python3.12/dist-packages/stable_baselines3/common/vec_env/patch_gym.py:49: UserWarning: You provided an OpenAI Gym environment. We strongly recommend transitioning to Gymnasium environments. Stable-Baselines3 is automatically wrapping your environments in a compatibility layer, which could potentially cause issues.\n",
            "  warnings.warn(\n"
          ]
        },
        {
          "name": "stdout",
          "output_type": "stream",
          "text": [
            "previous_total_asset: 993733.86460625\n",
            "end_total_asset: 1044028.0657650001\n",
            "total_reward: 50294.201158750104\n",
            "total_cost:  143.11165\n",
            "total trades:  780\n",
            "Sharpe:  0.1324236092969825\n",
            "============================================\n",
            "[46830, 46831, 46832, 46833, 46834, 46835, 46836, 46837, 46838, 46839, 46840, 46841, 46842, 46843, 46844, 46845, 46846, 46847, 46848, 46849, 46850, 46851, 46852, 46853, 46854, 46855, 46856, 46857, 46858, 46859]\n",
            "turbulence_threshold:  289.5317758225865\n",
            "======A2C Training========\n"
          ]
        },
        {
          "name": "stderr",
          "output_type": "stream",
          "text": [
            "/usr/local/lib/python3.12/dist-packages/jupyter_client/session.py:151: DeprecationWarning: datetime.datetime.utcnow() is deprecated and scheduled for removal in a future version. Use timezone-aware objects to represent datetimes in UTC: datetime.datetime.now(datetime.UTC).\n",
            "  return datetime.utcnow().replace(tzinfo=utc)\n",
            "/usr/local/lib/python3.12/dist-packages/stable_baselines3/common/vec_env/patch_gym.py:49: UserWarning: You provided an OpenAI Gym environment. We strongly recommend transitioning to Gymnasium environments. Stable-Baselines3 is automatically wrapping your environments in a compatibility layer, which could potentially cause issues.\n",
            "  warnings.warn(\n",
            "/usr/local/lib/python3.12/dist-packages/jupyter_client/session.py:151: DeprecationWarning: datetime.datetime.utcnow() is deprecated and scheduled for removal in a future version. Use timezone-aware objects to represent datetimes in UTC: datetime.datetime.now(datetime.UTC).\n",
            "  return datetime.utcnow().replace(tzinfo=utc)\n"
          ]
        },
        {
          "name": "stdout",
          "output_type": "stream",
          "text": [
            "Training time (A2C):  1.4058732271194458  minutes\n",
            "A2C Sharpe Ratio:  0.5785673751699403\n",
            "======PPO Training========\n"
          ]
        },
        {
          "name": "stderr",
          "output_type": "stream",
          "text": [
            "/usr/local/lib/python3.12/dist-packages/jupyter_client/session.py:151: DeprecationWarning: datetime.datetime.utcnow() is deprecated and scheduled for removal in a future version. Use timezone-aware objects to represent datetimes in UTC: datetime.datetime.now(datetime.UTC).\n",
            "  return datetime.utcnow().replace(tzinfo=utc)\n"
          ]
        },
        {
          "name": "stdout",
          "output_type": "stream",
          "text": [
            "Training time (PPO):  4.34198944568634  minutes\n",
            "PPO Sharpe Ratio:  -0.23532036989139835\n",
            "======TD3 Training========\n"
          ]
        },
        {
          "name": "stderr",
          "output_type": "stream",
          "text": [
            "/usr/local/lib/python3.12/dist-packages/jupyter_client/session.py:151: DeprecationWarning: datetime.datetime.utcnow() is deprecated and scheduled for removal in a future version. Use timezone-aware objects to represent datetimes in UTC: datetime.datetime.now(datetime.UTC).\n",
            "  return datetime.utcnow().replace(tzinfo=utc)\n"
          ]
        },
        {
          "name": "stdout",
          "output_type": "stream",
          "text": [
            "Training time (TD3):  6.540973428885142  minutes\n",
            "TD3 Sharpe Ratio:  -0.011581683593040798\n",
            "======Trading from:  20250411 to  20250714\n"
          ]
        },
        {
          "name": "stderr",
          "output_type": "stream",
          "text": [
            "/usr/local/lib/python3.12/dist-packages/stable_baselines3/common/vec_env/patch_gym.py:49: UserWarning: You provided an OpenAI Gym environment. We strongly recommend transitioning to Gymnasium environments. Stable-Baselines3 is automatically wrapping your environments in a compatibility layer, which could potentially cause issues.\n",
            "  warnings.warn(\n",
            "/usr/local/lib/python3.12/dist-packages/jupyter_client/session.py:151: DeprecationWarning: datetime.datetime.utcnow() is deprecated and scheduled for removal in a future version. Use timezone-aware objects to represent datetimes in UTC: datetime.datetime.now(datetime.UTC).\n",
            "  return datetime.utcnow().replace(tzinfo=utc)\n"
          ]
        },
        {
          "name": "stdout",
          "output_type": "stream",
          "text": [
            "previous_total_asset: 1044028.0657650001\n",
            "end_total_asset: 1453218.69921875\n",
            "total_reward: 409190.633454\n",
            "total_cost:  3910.6892\n",
            "total trades:  802\n",
            "Sharpe:  0.4669219390395922\n",
            "Ensemble Strategy took:  61.33148408333461  minutes\n"
          ]
        },
        {
          "name": "stderr",
          "output_type": "stream",
          "text": [
            "/usr/local/lib/python3.12/dist-packages/jupyter_client/session.py:151: DeprecationWarning: datetime.datetime.utcnow() is deprecated and scheduled for removal in a future version. Use timezone-aware objects to represent datetimes in UTC: datetime.datetime.now(datetime.UTC).\n",
            "  return datetime.utcnow().replace(tzinfo=utc)\n"
          ]
        }
      ],
      "source": [
        "import os\n",
        "\n",
        "def run_model() -> None:\n",
        "    \"\"\"Train the model.\"\"\"\n",
        "    os.makedirs(\"results\", exist_ok=True)\n",
        "\n",
        "    data = data_fixed\n",
        "\n",
        "    data['timestamp'] = data['timestamp'].astype(int)\n",
        "\n",
        "    unique_trade_date = data[(data.timestamp > 20240101)&(data.timestamp <= 20250829)].timestamp.unique()\n",
        "    print(unique_trade_date)\n",
        "\n",
        "    rebalance_window = 63\n",
        "    validation_window = 63\n",
        "\n",
        "    ## Ensemble Strategy\n",
        "    run_ensemble_strategy(df=data,\n",
        "                          unique_trade_date=unique_trade_date,\n",
        "                          rebalance_window=rebalance_window,\n",
        "                          validation_window=validation_window)\n",
        "\n",
        "    #_logger.info(f\"saving model version: {_version}\")\n",
        "\n",
        "if __name__ == \"__main__\":\n",
        "    run_model()\n"
      ]
    },
    {
      "cell_type": "code",
      "execution_count": 15,
      "metadata": {
        "colab": {
          "base_uri": "https://localhost:8080/"
        },
        "id": "f-ObiYQx0mNj",
        "outputId": "7bc2f26b-ee2d-4957-a9ba-9ccddc091674"
      },
      "outputs": [
        {
          "name": "stdout",
          "output_type": "stream",
          "text": [
            "  adding: results/ (stored 0%)\n",
            "  adding: results/account_value_trade_ensemble_189.csv (deflated 60%)\n",
            "  adding: results/account_value_validation_315.csv (deflated 73%)\n",
            "  adding: results/account_value_trade_ensemble_378.csv (deflated 65%)\n",
            "  adding: results/account_value_trade_ensemble_315.png (deflated 9%)\n",
            "  adding: results/account_rewards_trade_ensemble_126.csv (deflated 48%)\n",
            "  adding: results/account_rewards_trade_ensemble_189.csv (deflated 57%)\n",
            "  adding: results/account_rewards_trade_ensemble_252.csv (deflated 49%)\n",
            "  adding: results/account_value_validation_189.png (deflated 9%)\n",
            "  adding: results/account_value_validation_378.csv (deflated 80%)\n",
            "  adding: results/last_state_ensemble_189.csv (deflated 49%)\n",
            "  adding: results/account_rewards_trade_ensemble_315.csv (deflated 56%)\n",
            "  adding: results/account_value_train.csv (deflated 54%)\n",
            "  adding: results/account_value_validation_252.csv (deflated 65%)\n",
            "  adding: results/account_value_validation_315.png (deflated 8%)\n",
            "  adding: results/account_value_trade_ensemble_189.png (deflated 9%)\n",
            "  adding: results/account_value_train.png (deflated 8%)\n",
            "  adding: results/account_value_trade_ensemble_378.png (deflated 8%)\n",
            "  adding: results/account_value_trade_ensemble_252.png (deflated 8%)\n",
            "  adding: results/account_value_trade_ensemble_315.csv (deflated 60%)\n",
            "  adding: results/account_value_validation_378.png (deflated 10%)\n",
            "  adding: results/last_state_ensemble_378.csv (deflated 49%)\n",
            "  adding: results/account_value_validation_189.csv (deflated 50%)\n",
            "  adding: results/last_state_ensemble_315.csv (deflated 49%)\n",
            "  adding: results/last_state_ensemble_252.csv (deflated 49%)\n",
            "  adding: results/account_value_validation_252.png (deflated 11%)\n",
            "  adding: results/account_value_validation_126.csv (deflated 56%)\n",
            "  adding: results/account_value_trade_ensemble_252.csv (deflated 54%)\n",
            "  adding: results/account_value_trade_ensemble_126.png (deflated 10%)\n",
            "  adding: results/account_value_validation_126.png (deflated 9%)\n",
            "  adding: results/account_rewards_trade_ensemble_378.csv (deflated 52%)\n",
            "  adding: results/last_state_ensemble_126.csv (deflated 48%)\n",
            "  adding: results/account_value_trade_ensemble_126.csv (deflated 52%)\n"
          ]
        }
      ],
      "source": [
        "!zip -r results.zip results"
      ]
    },
    {
      "cell_type": "code",
      "execution_count": 16,
      "metadata": {
        "colab": {
          "base_uri": "https://localhost:8080/"
        },
        "id": "sQ5d6Ct80pVc",
        "outputId": "5a828a9a-a6e6-4e29-bf94-37efc5eb8483"
      },
      "outputs": [
        {
          "name": "stdout",
          "output_type": "stream",
          "text": [
            "  adding: trained_models/ (stored 0%)\n",
            "  adding: trained_models/2025-09-02 01:44:37.827718/ (stored 0%)\n",
            "  adding: trained_models/2025-09-02 01:44:37.827718/TD3_10k_dow_252.zip (stored 0%)\n",
            "  adding: trained_models/2025-09-02 01:44:37.827718/TD3_10k_dow_378.zip (stored 0%)\n",
            "  adding: trained_models/2025-09-02 01:44:37.827718/A2C_30k_dow_252.zip (stored 0%)\n",
            "  adding: trained_models/2025-09-02 01:44:37.827718/PPO_100k_dow_189.zip (stored 0%)\n",
            "  adding: trained_models/2025-09-02 01:44:37.827718/A2C_30k_dow_189.zip (stored 0%)\n",
            "  adding: trained_models/2025-09-02 01:44:37.827718/A2C_30k_dow_126.zip (stored 0%)\n",
            "  adding: trained_models/2025-09-02 01:44:37.827718/PPO_100k_dow_252.zip (stored 0%)\n",
            "  adding: trained_models/2025-09-02 01:44:37.827718/TD3_10k_dow_315.zip (stored 0%)\n",
            "  adding: trained_models/2025-09-02 01:44:37.827718/TD3_10k_dow_189.zip (stored 0%)\n",
            "  adding: trained_models/2025-09-02 01:44:37.827718/PPO_100k_dow_378.zip (stored 0%)\n",
            "  adding: trained_models/2025-09-02 01:44:37.827718/PPO_100k_dow_126.zip (stored 0%)\n",
            "  adding: trained_models/2025-09-02 01:44:37.827718/A2C_30k_dow_315.zip (stored 0%)\n",
            "  adding: trained_models/2025-09-02 01:44:37.827718/PPO_100k_dow_315.zip (stored 0%)\n",
            "  adding: trained_models/2025-09-02 01:44:37.827718/TD3_10k_dow_126.zip (stored 0%)\n",
            "  adding: trained_models/2025-09-02 01:44:37.827718/A2C_30k_dow_378.zip (stored 0%)\n"
          ]
        }
      ],
      "source": [
        "!zip -r trained_models.zip trained_models"
      ]
    }
  ],
  "metadata": {
    "colab": {
      "provenance": []
    },
    "kernelspec": {
      "display_name": "Python 3",
      "name": "python3"
    },
    "language_info": {
      "name": "python"
    }
  },
  "nbformat": 4,
  "nbformat_minor": 0
}
